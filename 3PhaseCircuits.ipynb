{
 "cells": [
  {
   "cell_type": "code",
   "execution_count": 1,
   "metadata": {},
   "outputs": [],
   "source": [
    "from functions import *"
   ]
  },
  {
   "cell_type": "markdown",
   "metadata": {},
   "source": [
    "## Delta - Delta"
   ]
  },
  {
   "cell_type": "code",
   "execution_count": 2,
   "metadata": {},
   "outputs": [
    {
     "data": {
      "text/plain": [
       "(((2.7311738034822293, 53.19859051364818),\n",
       "  (2.7311738034822293, -119.9315118405078),\n",
       "  (2.7311738034822293, 83.19859051364818)),\n",
       " ((1.4137595916525807, -21.80140948635182),\n",
       "  (5.452534319184441, -123.36646066342982),\n",
       "  (5.351449492382091, 71.6335393365702)),\n",
       " ((208, 30), (208, -90), (208, 150)),\n",
       " ((208, 30), (208, -90), (208, 150)),\n",
       " (1238.2455172413793+581.8262068965519j))"
      ]
     },
     "execution_count": 2,
     "metadata": {},
     "output_type": "execute_result"
    }
   ],
   "source": [
    "v_ab: tuple = (208, 30)\n",
    "v_bc: tuple = (208, -90)\n",
    "v_ca: tuple = (208, 150)\n",
    "\n",
    "v: tuple = (v_ab, v_bc, v_ca)\n",
    "\n",
    "z_ab: tuple = (70-30j)\n",
    "z_bc: tuple = (66+38j)\n",
    "z_ca: tuple = (30+70j)\n",
    "\n",
    "z: tuple = (z_ab, z_bc, z_ca)\n",
    "\n",
    "delta_delta(v, z)"
   ]
  },
  {
   "cell_type": "markdown",
   "metadata": {},
   "source": [
    "## Estrella - Estrella 4 hilos"
   ]
  },
  {
   "cell_type": "code",
   "execution_count": 3,
   "metadata": {},
   "outputs": [
    {
     "data": {
      "text/plain": [
       "(((3.794733192202055, -18.43494882292201),\n",
       "  (3.7947331922020546, -101.56505117707799),\n",
       "  (3.7947331922020546, 48.434948822921996)),\n",
       " ((3.794733192202055, -18.43494882292201),\n",
       "  (3.7947331922020546, -101.56505117707799),\n",
       "  (3.7947331922020546, 48.434948822921996)),\n",
       " ((120, 0), (120, -120), (120, 120)),\n",
       " ((207.84609690826525, 30.000000000000004),\n",
       "  (207.84609690826528, -90.0),\n",
       "  (207.84609690826525, 150.00000000000003)),\n",
       " (0, 0),\n",
       " (1007.9999999999998+431.99999999999994j))"
      ]
     },
     "execution_count": 3,
     "metadata": {},
     "output_type": "execute_result"
    }
   ],
   "source": [
    "v_an: tuple = (120, 0)\n",
    "v_bn: tuple = (120, -120)\n",
    "v_cn: tuple = (120, 120)\n",
    "\n",
    "v: tuple = (v_an, v_bn, v_cn)\n",
    "\n",
    "z_an: tuple = (30+10j)\n",
    "z_bn: tuple = (30-10j)\n",
    "z_cn: tuple = (10+30j)\n",
    "\n",
    "z: tuple = (z_an, z_bn, z_cn)\n",
    "\n",
    "estrella_estrella(v, z)"
   ]
  },
  {
   "cell_type": "markdown",
   "metadata": {},
   "source": [
    "## Delta - Estrella"
   ]
  },
  {
   "cell_type": "code",
   "execution_count": 4,
   "metadata": {},
   "outputs": [
    {
     "data": {
      "text/plain": [
       "(((1.4137595916525814, -21.801409486351826),\n",
       "  (5.452534319184441, -123.36646066342982),\n",
       "  (5.351449492382092, 71.63353933657021)),\n",
       " ((1.4137595916525814, -21.801409486351826),\n",
       "  (5.452534319184441, -123.36646066342982),\n",
       "  (5.351449492382092, 71.63353933657021)),\n",
       " ((44.70700373531728, -3.3664606634298133),\n",
       "  (172.4242746885836, -141.80140948635182),\n",
       "  (169.22769179279305, 143.1985905136482)),\n",
       " ((208, 30), (208, -90), (208, 150)),\n",
       " (75.50465406050665, 1.9925674006450615),\n",
       " (1238.2455172413795+581.8262068965528j))"
      ]
     },
     "execution_count": 4,
     "metadata": {},
     "output_type": "execute_result"
    }
   ],
   "source": [
    "v_ab: tuple = (208, 30)\n",
    "v_bc: tuple = (208, -90)\n",
    "v_ca: tuple = (208, 150)\n",
    "\n",
    "v: tuple = (v_ab, v_bc, v_ca)\n",
    "\n",
    "z_an: tuple = (30+10j)\n",
    "z_bn: tuple = (30-10j)\n",
    "z_cn: tuple = (10+30j)\n",
    "\n",
    "z: tuple = (z_an, z_bn, z_cn)\n",
    "\n",
    "delta_estrella(v, z)"
   ]
  },
  {
   "cell_type": "markdown",
   "metadata": {},
   "source": [
    "## Estrella - Delta"
   ]
  },
  {
   "cell_type": "code",
   "execution_count": 5,
   "metadata": {},
   "outputs": [
    {
     "data": {
      "text/plain": [
       "(((2.7291529568840516, 53.19859051364819),\n",
       "  (2.729152956884052, -119.93151184050774),\n",
       "  (2.7291529568840525, 83.19859051364823)),\n",
       " ((1.4127135244789024, -21.801409486351826),\n",
       "  (5.448499887023323, -123.36646066342979),\n",
       "  (5.347489854775649, 71.6335393365702)),\n",
       " ((207.84609690826525, 30.000000000000004),\n",
       "  (207.84609690826525, -89.99999999999997),\n",
       "  (207.8460969082653, 150.00000000000003)),\n",
       " ((207.84609690826525, 30.000000000000004),\n",
       "  (207.84609690826525, -89.99999999999997),\n",
       "  (207.8460969082653, 150.00000000000003)),\n",
       " (785.9171954363244-66.43915951833148j))"
      ]
     },
     "execution_count": 5,
     "metadata": {},
     "output_type": "execute_result"
    }
   ],
   "source": [
    "v_an: tuple = (120, 0)\n",
    "v_bn: tuple = (120, -120)\n",
    "v_cn: tuple = (120, -240)\n",
    "\n",
    "v: tuple = (v_an, v_bn, v_cn)\n",
    "\n",
    "z_ab: tuple = (70-30j)\n",
    "z_bc: tuple = (66+38j)\n",
    "z_ca: tuple = (30+70j)\n",
    "\n",
    "z: tuple = (z_ab, z_bc, z_ca)\n",
    "\n",
    "estrella_delta(v, z)"
   ]
  },
  {
   "cell_type": "markdown",
   "metadata": {},
   "source": [
    "## Estrella - Estrella 3 hilos"
   ]
  },
  {
   "cell_type": "code",
   "execution_count": 6,
   "metadata": {},
   "outputs": [
    {
     "data": {
      "text/plain": [
       "(((1.4127135244789035, -21.801409486351826),\n",
       "  (5.448499887023324, -123.36646066342979),\n",
       "  (5.347489854775651, 71.63353933657022)),\n",
       " ((1.4127135244789035, -21.801409486351826),\n",
       "  (5.448499887023324, -123.36646066342979),\n",
       "  (5.347489854775651, 71.63353933657022)),\n",
       " ((44.67392418677371, -3.366460663429817),\n",
       "  (172.296694741638, -141.80140948635182),\n",
       "  (169.1024770573409, 143.1985905136482)),\n",
       " ((207.84609690826525, 30.000000000000004),\n",
       "  (207.84609690826525, -89.99999999999997),\n",
       "  (207.8460969082653, 150.00000000000003)),\n",
       " (75.4487867542553, 1.9925674006450844),\n",
       " (1236.4137931034484+580.9655172413798j))"
      ]
     },
     "execution_count": 6,
     "metadata": {},
     "output_type": "execute_result"
    }
   ],
   "source": [
    "v_an: tuple = (120, 0)\n",
    "v_bn: tuple = (120, -120)\n",
    "v_cn: tuple = (120, -240)\n",
    "\n",
    "v: tuple = (v_an, v_bn, v_cn)\n",
    "\n",
    "z_an: tuple = (30+10j)\n",
    "z_bn: tuple = (30-10j)\n",
    "z_cn: tuple = (10+30j)\n",
    "\n",
    "z: tuple = (z_an, z_bn, z_cn)\n",
    "\n",
    "estrella_estrella_3hilos(v, z)"
   ]
  },
  {
   "cell_type": "code",
   "execution_count": 7,
   "metadata": {},
   "outputs": [
    {
     "data": {
      "text/plain": [
       "(50+0j)"
      ]
     },
     "execution_count": 7,
     "metadata": {},
     "output_type": "execute_result"
    }
   ],
   "source": [
    "z = (-100j, 100, 50+50j)\n",
    "\n",
    "z_eq_paralelo(z)\n"
   ]
  },
  {
   "cell_type": "code",
   "execution_count": 10,
   "metadata": {},
   "outputs": [
    {
     "data": {
      "text/plain": [
       "((50.000000000000014+86.60254037844386j),)"
      ]
     },
     "execution_count": 10,
     "metadata": {},
     "output_type": "execute_result"
    }
   ],
   "source": [
    "transform_to_rect(((100, 60), ))"
   ]
  }
 ],
 "metadata": {
  "kernelspec": {
   "display_name": "Python 3",
   "language": "python",
   "name": "python3"
  },
  "language_info": {
   "codemirror_mode": {
    "name": "ipython",
    "version": 3
   },
   "file_extension": ".py",
   "mimetype": "text/x-python",
   "name": "python",
   "nbconvert_exporter": "python",
   "pygments_lexer": "ipython3",
   "version": "3.11.4"
  },
  "orig_nbformat": 4
 },
 "nbformat": 4,
 "nbformat_minor": 2
}
