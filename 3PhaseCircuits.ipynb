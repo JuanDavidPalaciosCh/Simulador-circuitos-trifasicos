{
 "cells": [
  {
   "cell_type": "code",
   "execution_count": 3,
   "metadata": {},
   "outputs": [],
   "source": [
    "from functions import *"
   ]
  },
  {
   "cell_type": "markdown",
   "metadata": {},
   "source": [
    "## Delta - Delta"
   ]
  },
  {
   "cell_type": "code",
   "execution_count": 4,
   "metadata": {},
   "outputs": [
    {
     "name": "stdout",
     "output_type": "stream",
     "text": [
      "Corrientes de fase:\n",
      "Iab = 2.341 ∡ -20.556\n",
      "Ibc = 2.626 ∡ -96.801\n",
      "Ica = 3.162 ∡ 48.435\n",
      "\n",
      "Corrientes de linea:\n",
      "Iaa = 3.189 ∡ -88.316\n",
      "Ibb = 3.075 ∡ -144.492\n",
      "Icc = 5.526 ∡ 64.156\n",
      "\n",
      "Tensiones de fase:\n",
      "Vab = 100.000 ∡ 0.000\n",
      "Vbc = 100.000 ∡ -120.000\n",
      "Vca = 100.000 ∡ -240.000\n",
      "\n",
      "Tensiones de linea:\n",
      "VAB = 100.000 ∡ 0.000\n",
      "VBC = 100.000 ∡ -120.000\n",
      "VCA = 100.000 ∡ -240.000\n",
      "\n"
     ]
    }
   ],
   "source": [
    "v_ab: tuple = (100, 0)\n",
    "v_bc: tuple = (100, -120)\n",
    "v_ca: tuple = (100, -240)\n",
    "\n",
    "v: tuple = (v_ab, v_bc, v_ca)\n",
    "\n",
    "z_ab: tuple = (40+15j)\n",
    "z_bc: tuple = (35-15j)\n",
    "z_ca: tuple = (10+30j)\n",
    "\n",
    "z: tuple = (z_ab, z_bc, z_ca)\n",
    "\n",
    "delta_delta(v, z)\n",
    "print(\"\")"
   ]
  },
  {
   "cell_type": "markdown",
   "metadata": {},
   "source": [
    "## Estrella - Estrella 4 hilos"
   ]
  },
  {
   "cell_type": "code",
   "execution_count": 5,
   "metadata": {},
   "outputs": [
    {
     "name": "stdout",
     "output_type": "stream",
     "text": [
      "Corrientes de fase:\n",
      "Ian = 2.341 ∡ -20.556\n",
      "Ibn = 2.626 ∡ -96.801\n",
      "Icn = 3.162 ∡ 48.435\n",
      "\n",
      "Corrientes de linea:\n",
      "IAa = 2.341 ∡ -20.556\n",
      "IBb = 2.626 ∡ -96.801\n",
      "ICc = 3.162 ∡ 48.435\n",
      "\n",
      "Tensiones de fase:\n",
      "Van = 100.000 ∡ 0.000\n",
      "Vbn = 100.000 ∡ -120.000\n",
      "Vcn = 100.000 ∡ -240.000\n",
      "\n",
      "Tensiones de linea:\n",
      "VAB = 173.205 ∡ 30.000\n",
      "VBC = 173.205 ∡ -90.000\n",
      "VCA = 173.205 ∡ 150.000\n",
      "\n"
     ]
    }
   ],
   "source": [
    "v_an: tuple = (100, 0)\n",
    "v_bn: tuple = (100, -120)\n",
    "v_cn: tuple = (100, -240)\n",
    "\n",
    "v: tuple = (v_an, v_bn, v_cn)\n",
    "\n",
    "z_an: tuple = (40+15j)\n",
    "z_bn: tuple = (35-15j)\n",
    "z_cn: tuple = (10+30j)\n",
    "\n",
    "z: tuple = (z_an, z_bn, z_cn)\n",
    "\n",
    "estrella_estrella(v, z)\n",
    "print(\"\")"
   ]
  },
  {
   "cell_type": "markdown",
   "metadata": {},
   "source": [
    "## Delta - Estrella"
   ]
  },
  {
   "cell_type": "code",
   "execution_count": 6,
   "metadata": {},
   "outputs": [
    {
     "name": "stdout",
     "output_type": "stream",
     "text": [
      "Corrientes de fase:\n",
      "Ian = 0.512 ∡ -70.778\n",
      "Ibn = 2.302 ∡ -145.750\n",
      "Icn = 2.484 ∡ 45.726\n",
      "\n",
      "Corrientes de linea:\n",
      "IAa = 0.512 ∡ -70.778\n",
      "IBb = 2.302 ∡ -145.750\n",
      "ICc = 2.484 ∡ 45.726\n",
      "\n",
      "Tensiones de fase:\n",
      "Van = 21.859 ∡ -50.222\n",
      "Vbn = 87.639 ∡ -168.949\n",
      "Vcn = 78.546 ∡ 117.291\n",
      "\n",
      "Tensiones de linea:\n",
      "VAB = 100.000 ∡ 0.000\n",
      "VBC = 100.000 ∡ -120.000\n",
      "VCA = 100.000 ∡ -240.000\n",
      "\n"
     ]
    }
   ],
   "source": [
    "v_ab: tuple = (100, 0)\n",
    "v_bc: tuple = (100, -120)\n",
    "v_ca: tuple = (100, -240)\n",
    "\n",
    "v: tuple = (v_an, v_bn, v_cn)\n",
    "\n",
    "z_an: tuple = (40+15j)\n",
    "z_bn: tuple = (35-15j)\n",
    "z_cn: tuple = (10+30j)\n",
    "\n",
    "z: tuple = (z_an, z_bn, z_cn)\n",
    "\n",
    "delta_estrella(v, z)\n",
    "print(\"\")"
   ]
  },
  {
   "cell_type": "markdown",
   "metadata": {},
   "source": [
    "## Estrella - Delta"
   ]
  },
  {
   "cell_type": "code",
   "execution_count": 9,
   "metadata": {},
   "outputs": [
    {
     "name": "stdout",
     "output_type": "stream",
     "text": [
      "Corrientes de fase:\n",
      "Ian = 4.054 ∡ -170.556\n",
      "Ibn = 4.549 ∡ 113.199\n",
      "Icn = 5.477 ∡ 78.435\n",
      "\n",
      "Corrientes de linea:\n",
      "IAa = 5.524 ∡ -58.316\n",
      "IBb = 5.325 ∡ -114.492\n",
      "ICc = 9.572 ∡ 94.156\n",
      "\n",
      "Tensiones de fase:\n",
      "Van = 173.205 ∡ -150.000\n",
      "Vbn = 173.205 ∡ 90.000\n",
      "Vcn = 173.205 ∡ 150.000\n",
      "\n",
      "Tensiones de linea:\n",
      "VAB = 173.205 ∡ 30.000\n",
      "VBC = 173.205 ∡ -90.000\n",
      "VCA = 173.205 ∡ 150.000\n",
      "\n"
     ]
    }
   ],
   "source": [
    "v_an: tuple = (100, 0)\n",
    "v_bn: tuple = (100, -120)\n",
    "v_cn: tuple = (100, -240)\n",
    "\n",
    "v: tuple = (v_an, v_bn, v_cn)\n",
    "\n",
    "z_ab: tuple = (40+15j)\n",
    "z_bc: tuple = (35-15j)\n",
    "z_ca: tuple = (10+30j)\n",
    "\n",
    "z: tuple = (z_ab, z_bc, z_ca)\n",
    "\n",
    "estrella_delta(v, z)\n",
    "print(\"\")"
   ]
  },
  {
   "cell_type": "markdown",
   "metadata": {},
   "source": [
    "## Estrella - Estrella 3 hilos"
   ]
  },
  {
   "cell_type": "code",
   "execution_count": 23,
   "metadata": {},
   "outputs": [
    {
     "name": "stdout",
     "output_type": "stream",
     "text": [
      "Corrientes de fase:\n",
      "Ian = 0.512 ∡ -70.778\n",
      "Ibn = 2.302 ∡ -145.750\n",
      "Icn = 2.484 ∡ -134.274\n",
      "\n",
      "Corrientes de linea:\n",
      "IAa = 0.512 ∡ -70.778\n",
      "IBb = 2.302 ∡ -145.750\n",
      "ICc = 2.484 ∡ -134.274\n",
      "\n",
      "Tensiones de fase:\n",
      "Van = 100.000 ∡ 0.000\n",
      "Vbn = 100.000 ∡ -120.000\n",
      "Vcn = 100.000 ∡ -240.000\n",
      "\n",
      "Tensiones de linea:\n",
      "VAB = 173.205 ∡ 30.000\n",
      "VBC = 173.205 ∡ -90.000\n",
      "VCA = 173.205 ∡ 150.000\n",
      "\n"
     ]
    }
   ],
   "source": [
    "v_an: tuple = (100, 0)\n",
    "v_bn: tuple = (100, -120)\n",
    "v_cn: tuple = (100, -240)\n",
    "\n",
    "v: tuple = (v_an, v_bn, v_cn)\n",
    "\n",
    "z_an: tuple = (40+15j)\n",
    "z_bn: tuple = (35-15j)\n",
    "z_cn: tuple = (10+30j)\n",
    "\n",
    "z: tuple = (z_an, z_bn, z_cn)\n",
    "\n",
    "estrella_estrella_3hilos(v, z)\n",
    "print(\"\")"
   ]
  }
 ],
 "metadata": {
  "kernelspec": {
   "display_name": "Python 3",
   "language": "python",
   "name": "python3"
  },
  "language_info": {
   "codemirror_mode": {
    "name": "ipython",
    "version": 3
   },
   "file_extension": ".py",
   "mimetype": "text/x-python",
   "name": "python",
   "nbconvert_exporter": "python",
   "pygments_lexer": "ipython3",
   "version": "3.11.4"
  },
  "orig_nbformat": 4
 },
 "nbformat": 4,
 "nbformat_minor": 2
}
