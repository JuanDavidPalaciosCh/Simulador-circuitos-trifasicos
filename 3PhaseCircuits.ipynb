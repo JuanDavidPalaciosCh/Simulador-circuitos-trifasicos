{
 "cells": [
  {
   "cell_type": "code",
   "execution_count": 2,
   "metadata": {},
   "outputs": [],
   "source": [
    "from functions import *"
   ]
  },
  {
   "cell_type": "markdown",
   "metadata": {},
   "source": [
    "## Delta - Delta"
   ]
  },
  {
   "cell_type": "code",
   "execution_count": 7,
   "metadata": {},
   "outputs": [
    {
     "name": "stdout",
     "output_type": "stream",
     "text": [
      "Corrientes de fase:\n",
      "Iab = 2.341 ∡ -20.556\n",
      "Ibc = 2.626 ∡ -96.801\n",
      "Ica = 3.162 ∡ 48.435\n",
      "\n",
      "Corrientes de linea:\n",
      "Iaa = 3.189 ∡ -88.316\n",
      "Ibb = 3.075 ∡ -144.492\n",
      "Icc = 5.526 ∡ 64.156\n",
      "\n",
      "Tensiones de fase:\n",
      "Vab = 100.000 ∡ 0.000\n",
      "Vbc = 100.000 ∡ -120.000\n",
      "Vca = 100.000 ∡ -240.000\n",
      "\n",
      "Tensiones de linea:\n",
      "VAB = 100.000 ∡ 0.000\n",
      "VBC = 100.000 ∡ -120.000\n",
      "VCA = 100.000 ∡ -240.000\n",
      "\n"
     ]
    }
   ],
   "source": [
    "v_ab: tuple = (100, 0)\n",
    "v_bc: tuple = (100, -120)\n",
    "v_ca: tuple = (100, -240)\n",
    "\n",
    "v: tuple = (v_ab, v_bc, v_ca)\n",
    "\n",
    "z_ab: tuple = (40+15j)\n",
    "z_bc: tuple = (35-15j)\n",
    "z_ca: tuple = (10+30j)\n",
    "\n",
    "z: tuple = (z_ab, z_bc, z_ca)\n",
    "\n",
    "delta_delta(v, z)\n",
    "print(\"\")"
   ]
  },
  {
   "cell_type": "markdown",
   "metadata": {},
   "source": [
    "## Estrella - Estrella 4 hilos"
   ]
  },
  {
   "cell_type": "code",
   "execution_count": 8,
   "metadata": {},
   "outputs": [
    {
     "name": "stdout",
     "output_type": "stream",
     "text": [
      "Corrientes de fase:\n",
      "Ian = 2.341 ∡ -20.556\n",
      "Ibn = 2.626 ∡ -96.801\n",
      "Icn = 3.162 ∡ 48.435\n",
      "\n",
      "Corrientes de linea:\n",
      "IAa = 2.341 ∡ -20.556\n",
      "IBb = 2.626 ∡ -96.801\n",
      "ICc = 3.162 ∡ 48.435\n",
      "\n",
      "Tensiones de fase:\n",
      "Van = 100.000 ∡ 0.000\n",
      "Vbn = 100.000 ∡ -120.000\n",
      "Vcn = 100.000 ∡ -240.000\n",
      "\n",
      "Tensiones de linea:\n",
      "VAB = 173.205 ∡ 30.000\n",
      "VBC = 173.205 ∡ -90.000\n",
      "VCA = 173.205 ∡ 150.000\n",
      "\n"
     ]
    }
   ],
   "source": [
    "v_an: tuple = (100, 0)\n",
    "v_bn: tuple = (100, -120)\n",
    "v_cn: tuple = (100, -240)\n",
    "\n",
    "v: tuple = (v_an, v_bn, v_cn)\n",
    "\n",
    "z_an: tuple = (40+15j)\n",
    "z_bn: tuple = (35-15j)\n",
    "z_cn: tuple = (10+30j)\n",
    "\n",
    "z: tuple = (z_an, z_bn, z_cn)\n",
    "\n",
    "estrella_estrella(v, z)\n",
    "print(\"\")"
   ]
  },
  {
   "cell_type": "markdown",
   "metadata": {},
   "source": [
    "## Delta - Estrella"
   ]
  },
  {
   "cell_type": "code",
   "execution_count": null,
   "metadata": {},
   "outputs": [],
   "source": [
    "def delta_estrella(v: tuple, z: tuple) -> None:\n",
    "    # Fuentes\n",
    "    f_an: tuple = v[0]\n",
    "    f_bn: tuple = v[1]\n",
    "    f_cn: tuple = v[2]\n",
    "\n",
    "    f_pol: tuple = (f_an, f_bn, f_cn)\n",
    "    f_rect: tuple = transform_to_rect(f_pol)\n",
    "\n",
    "    # Fasores\n",
    "    z_an: complex = z[0]\n",
    "    z_bn: complex = z[1]\n",
    "    z_cn: complex = z[2]\n",
    "\n",
    "    z_rect: tuple = (z_an, z_bn, z_cn)\n",
    "    z_pol: tuple = transform_to_polar(z_rect)\n",
    "\n",
    "    # Corrientes\n",
    "    i_an: tuple = transform_to_polar((f_rect[0] / z_rect[0], ))[0]\n",
    "    i_bn: tuple = transform_to_polar((f_rect[1] / z_rect[1], ))[0]\n",
    "    i_cn: tuple = transform_to_polar((f_rect[2] / z_rect[2], ))[0]\n",
    "\n",
    "    # Tensiones de linea\n",
    "    f_ab : tuple = transform_to_polar((f_rect[0] - f_rect[1], ))[0]\n",
    "    f_bc : tuple = transform_to_polar((f_rect[1] - f_rect[2], ))[0]\n",
    "    f_ca : tuple = transform_to_polar((f_rect[2] - f_rect[0], ))[0]\n",
    "\n",
    "\n",
    "    # Print solution\n",
    "    print(\"Corrientes de fase:\")\n",
    "    print(\"Ian = {:.3f} ∡ {:.3f}\".format(i_an[0], i_an[1]))\n",
    "    print(\"Ibn = {:.3f} ∡ {:.3f}\".format(i_bn[0], i_bn[1]))\n",
    "    print(\"Icn = {:.3f} ∡ {:.3f}\".format(i_cn[0], i_cn[1]))\n",
    "\n",
    "    print(\"\")\n",
    "\n",
    "    print(\"Corrientes de linea:\")\n",
    "    print(\"IAa = {:.3f} ∡ {:.3f}\".format(i_an[0], i_an[1]))\n",
    "    print(\"IBb = {:.3f} ∡ {:.3f}\".format(i_bn[0], i_bn[1]))\n",
    "    print(\"ICc = {:.3f} ∡ {:.3f}\".format(i_cn[0], i_cn[1]))\n",
    "\n",
    "    print(\"\")\n",
    "\n",
    "    print(\"Tensiones de fase:\")\n",
    "    print(\"Van = {:.3f} ∡ {:.3f}\".format(f_an[0], f_an[1]))\n",
    "    print(\"Vbn = {:.3f} ∡ {:.3f}\".format(f_bn[0], f_bn[1]))\n",
    "    print(\"Vcn = {:.3f} ∡ {:.3f}\".format(f_cn[0], f_cn[1]))\n",
    "\n",
    "    print(\"\")\n",
    "\n",
    "    print(\"Tensiones de linea:\")\n",
    "    print(\"VAB = {:.3f} ∡ {:.3f}\".format(f_ab[0], f_ab[1]))\n",
    "    print(\"VBC = {:.3f} ∡ {:.3f}\".format(f_bc[0], f_bc[1]))\n",
    "    print(\"VCA = {:.3f} ∡ {:.3f}\".format(f_ca[0], f_ca[1]))\n"
   ]
  },
  {
   "cell_type": "code",
   "execution_count": 19,
   "metadata": {},
   "outputs": [
    {
     "data": {
      "application/vnd.jupyter.widget-view+json": {
       "model_id": "cae6ba63c950451fb10d437486bad68e",
       "version_major": 2,
       "version_minor": 0
      },
      "text/plain": [
       "interactive(children=(IntSlider(value=360, description='v_ab_r', max=1080, min=-360), IntSlider(value=180, des…"
      ]
     },
     "metadata": {},
     "output_type": "display_data"
    }
   ],
   "source": [
    "from ipywidgets import interact\n",
    "\n",
    "@interact(v_ab_r=360, v_ab_i=180, v_bc_r=20, v_bc_i=180, v_ca_r=20, v_ca_i=180, z_ab_r=20, z_ab_i=0, z_bc_r=20, z_bc_i=0, z_ca_r=20, z_ca_i=0)\n",
    "def choose_voltages(v_ab_r, v_ab_i, v_bc_r, v_bc_i, v_ca_r, v_ca_i, z_ab_r, z_ab_i, z_bc_r, z_bc_i, z_ca_r, z_ca_i):\n",
    "    v_ab: tuple = (v_ab_r, v_ab_i)\n",
    "    v_bc: tuple = (v_bc_r, v_bc_i)\n",
    "    v_ca: tuple = (v_ca_r, v_ca_i)\n",
    "\n",
    "    v: tuple = (v_ab, v_bc, v_ca)\n",
    "\n",
    "    z_ab: tuple = complex(z_ab_r, z_ab_i)\n",
    "    z_bc: tuple = complex(z_bc_r, z_bc_i)\n",
    "    z_ca: tuple = complex(z_ca_r, z_ca_i)\n",
    "\n",
    "    z: tuple = (z_ab, z_bc, z_ca)\n",
    "\n",
    "    delta_delta(v, z)\n",
    "\n"
   ]
  }
 ],
 "metadata": {
  "kernelspec": {
   "display_name": "Python 3",
   "language": "python",
   "name": "python3"
  },
  "language_info": {
   "codemirror_mode": {
    "name": "ipython",
    "version": 3
   },
   "file_extension": ".py",
   "mimetype": "text/x-python",
   "name": "python",
   "nbconvert_exporter": "python",
   "pygments_lexer": "ipython3",
   "version": "3.11.4"
  },
  "orig_nbformat": 4
 },
 "nbformat": 4,
 "nbformat_minor": 2
}
